{
 "cells": [
  {
   "cell_type": "code",
   "execution_count": 1,
   "id": "921fed31",
   "metadata": {},
   "outputs": [],
   "source": [
    "import cv2\n",
    "import numpy as np\n",
    "img = cv2.imread('messi5.jpg')\n",
    "cv2.imshow('Input', img)\n",
    "cv2.waitKey(0)\n",
    "img_gray = cv2.cvtColor(img, cv2.COLOR_BGR2GRAY)\n",
    "img_blur = cv2.GaussianBlur(img_gray, (3,3), 0)\n"
   ]
  },
  {
   "cell_type": "code",
   "execution_count": 2,
   "id": "5fb2f781",
   "metadata": {},
   "outputs": [],
   "source": [
    "sobelxy = cv2.Sobel(src=img_blur, ddepth=cv2.CV_64F, dx=1, dy=1, ksize=5)\n",
    "# cv2.imshow('Sobel X Y using Sobel() function', sobelxy)"
   ]
  },
  {
   "cell_type": "code",
   "execution_count": null,
   "id": "5e3bd03d",
   "metadata": {},
   "outputs": [],
   "source": [
    "\n",
    "kernelx = np.array([[1,1,1],[0,0,0],[-1,-1,-1]])\n",
    "kernely = np.array([[-1,0,1],[-1,0,1],[-1,0,1]])\n",
    "img_prewittx = cv2.filter2D(img_blur, -1, kernelx)\n",
    "img_prewitty = cv2.filter2D(img_blur, -1, kernely)\n",
    "cv2.imshow(\"Prewitt\", img_prewittx + img_prewitty)\n",
    "kernelx1 = np.array([[1, 0], [0, -1]])\n",
    "kernely1 = np.array([[0, 1], [-1, 0]])\n",
    "img_robertx = cv2.filter2D(img_blur, -1, kernelx)\n",
    "img_roberty = cv2.filter2D(img_blur, -1, kernely)\n",
    "grad = cv2.addWeighted(img_robertx, 0.5, img_roberty, 0.5, 0)\n",
    "cv2.imshow('grad',grad)\n",
    "edges = cv2.Canny(image=img_blur, threshold1=100, threshold2=200)\n",
    "cv2.imshow('Canny Edge Detection', edges)"
   ]
  },
  {
   "cell_type": "code",
   "execution_count": null,
   "id": "f9dddefd",
   "metadata": {},
   "outputs": [],
   "source": []
  }
 ],
 "metadata": {
  "kernelspec": {
   "display_name": "Python 3 (ipykernel)",
   "language": "python",
   "name": "python3"
  },
  "language_info": {
   "codemirror_mode": {
    "name": "ipython",
    "version": 3
   },
   "file_extension": ".py",
   "mimetype": "text/x-python",
   "name": "python",
   "nbconvert_exporter": "python",
   "pygments_lexer": "ipython3",
   "version": "3.9.13"
  }
 },
 "nbformat": 4,
 "nbformat_minor": 5
}
