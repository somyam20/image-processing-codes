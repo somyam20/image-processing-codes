{
 "cells": [
  {
   "cell_type": "code",
   "execution_count": 1,
   "id": "e20bb706-b56c-4230-91fd-9dc384c3df72",
   "metadata": {},
   "outputs": [],
   "source": [
    "import cv2\n",
    "import numpy as np\n",
    "from sklearn.cluster import KMeans\n",
    "\n",
    "# Step 2: Load the image\n",
    "image = cv2.imread(\"working.png\")\n",
    "\n",
    "# Step 3: Preprocess the image\n",
    "image = cv2.cvtColor(image, cv2.COLOR_BGR2RGB)\n",
    "reshaped_image = image.reshape(-1, 3)\n",
    "\n",
    "# Step 4: Perform k-means clustering\n",
    "n_clusters = 3\n",
    "kmeans = KMeans(n_clusters=n_clusters)\n",
    "kmeans.fit(reshaped_image)\n",
    "\n",
    "# Step 5: Assign cluster labels\n",
    "labels = kmeans.labels_\n",
    "segmented_image = labels.reshape(image.shape[:2])\n",
    "cv2.imwrite(\"Segmented Image.png\", segmented_image)\n",
    "cv2.waitKey(0)\n",
    "cv2.destroyAllWindows()\n"
   ]
  },
  {
   "cell_type": "code",
   "execution_count": 2,
   "id": "3d446487-002a-4c60-b1a3-f7c6da714224",
   "metadata": {},
   "outputs": [
    {
     "data": {
      "text/plain": [
       "True"
      ]
     },
     "execution_count": 2,
     "metadata": {},
     "output_type": "execute_result"
    }
   ],
   "source": [
    "import cv2\n",
    "import numpy as np\n",
    "from sklearn.cluster import KMeans\n",
    "\n",
    "# Step 2: Load the image\n",
    "image = cv2.imread(\"working.png\")\n",
    "\n",
    "# Step 3: Preprocess the image\n",
    "image = cv2.cvtColor(image, cv2.COLOR_BGR2RGB)\n",
    "reshaped_image = image.reshape(-1, 3)\n",
    "\n",
    "# Step 4: Perform k-means clustering\n",
    "n_clusters = 3\n",
    "kmeans = KMeans(n_clusters=n_clusters)\n",
    "kmeans.fit(reshaped_image)\n",
    "\n",
    "# Step 5: Assign cluster labels and reshape back to image shape\n",
    "labels = kmeans.labels_\n",
    "segmented_image = labels.reshape(image.shape[0], image.shape[1])\n",
    "\n",
    "# Step 6: Convert labels to the original data type\n",
    "segmented_image = np.uint8(segmented_image)\n",
    "\n",
    "# Step 7: Save the segmented image\n",
    "cv2.imwrite(\"Segmented Image.png\", segmented_image)\n"
   ]
  },
  {
   "cell_type": "code",
   "execution_count": 3,
   "id": "f0130c52-65df-4693-8a1e-727c7f220155",
   "metadata": {},
   "outputs": [
    {
     "data": {
      "text/plain": [
       "True"
      ]
     },
     "execution_count": 3,
     "metadata": {},
     "output_type": "execute_result"
    }
   ],
   "source": [
    "import cv2\n",
    "import numpy as np\n",
    "from sklearn.cluster import KMeans\n",
    "image = cv2.imread(\"working.png\")\n",
    "image = cv2.cvtColor(image, cv2.COLOR_BGR2RGB)\n",
    "reshaped_image = image.reshape(-1, 3)\n",
    "n_clusters = 3\n",
    "kmeans = KMeans(n_clusters=n_clusters)\n",
    "kmeans.fit(reshaped_image)\n",
    "labels = kmeans.labels_\n",
    "segmented_image = labels.reshape(image.shape[0], image.shape[1])\n",
    "scaled_segmented_image = (segmented_image.astype(np.float32) / (n_clusters - 1) * 255).astype(np.uint8)\n",
    "\n",
    "\n",
    "cv2.imwrite(\"Segmented Image.png\", scaled_segmented_image)\n"
   ]
  },
  {
   "cell_type": "code",
   "execution_count": null,
   "id": "dd3965d4-1ed3-49d8-b45c-9dd51cd8dd47",
   "metadata": {},
   "outputs": [],
   "source": []
  }
 ],
 "metadata": {
  "kernelspec": {
   "display_name": "Python 3 (ipykernel)",
   "language": "python",
   "name": "python3"
  },
  "language_info": {
   "codemirror_mode": {
    "name": "ipython",
    "version": 3
   },
   "file_extension": ".py",
   "mimetype": "text/x-python",
   "name": "python",
   "nbconvert_exporter": "python",
   "pygments_lexer": "ipython3",
   "version": "3.9.13"
  }
 },
 "nbformat": 4,
 "nbformat_minor": 5
}
