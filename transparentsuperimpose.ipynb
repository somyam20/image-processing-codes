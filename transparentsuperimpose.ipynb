{
 "cells": [
  {
   "cell_type": "code",
   "execution_count": 4,
   "id": "64cbbd94",
   "metadata": {},
   "outputs": [],
   "source": [
    "from PIL import Image\n",
    "\n",
    "\n",
    "image1 = Image.open('3 H_labelled.tif')\n",
    "\n",
    "\n",
    "image2 = Image.open('3 H.tif')\n",
    "\n",
    "\n",
    "new_size = (800, 600)  \n",
    "image1 = image1.resize(new_size)\n",
    "image2 = image2.resize(new_size)\n",
    "\n",
    "\n",
    "image1 = image1.convert('RGBA')\n",
    "\n",
    "\n",
    "data = image1.getdata()\n",
    "new_data = []\n",
    "for item in data:\n",
    "    \n",
    "    if item[:3] == (255, 255, 255):\n",
    "        new_data.append((255, 255, 255, 0))\n",
    "    else:\n",
    "        new_data.append(item)\n",
    "\n",
    "\n",
    "image1.putdata(new_data)\n",
    "\n",
    "\n",
    "result = Image.alpha_composite(image2.convert('RGBA'), image1)\n",
    "\n",
    "\n",
    "#result.save('result.png')\n",
    "result.show()\n"
   ]
  },
  {
   "cell_type": "code",
   "execution_count": null,
   "id": "e5f61e00",
   "metadata": {},
   "outputs": [],
   "source": []
  }
 ],
 "metadata": {
  "kernelspec": {
   "display_name": "Python 3 (ipykernel)",
   "language": "python",
   "name": "python3"
  },
  "language_info": {
   "codemirror_mode": {
    "name": "ipython",
    "version": 3
   },
   "file_extension": ".py",
   "mimetype": "text/x-python",
   "name": "python",
   "nbconvert_exporter": "python",
   "pygments_lexer": "ipython3",
   "version": "3.9.13"
  }
 },
 "nbformat": 4,
 "nbformat_minor": 5
}
