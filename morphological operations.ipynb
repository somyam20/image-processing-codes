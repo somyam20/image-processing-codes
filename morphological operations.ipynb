{
 "cells": [
  {
   "cell_type": "code",
   "execution_count": null,
   "id": "d6596f6d-4207-4b8c-bf72-bdd798ebc465",
   "metadata": {},
   "outputs": [],
   "source": [
    "import cv2\n",
    "import numpy as np\n",
    "\n",
    "# Load the image\n",
    "img = cv2.imread('2.5bright.jpg', cv2.IMREAD_GRAYSCALE)\n",
    "\n",
    "# Define structuring element\n",
    "kernel = np.ones((3,3),np.uint8)\n",
    "\n",
    "# Perform morphological operations\n",
    "eroded = cv2.erode(img, kernel, iterations=1)\n",
    "dilated = cv2.dilate(img, kernel, iterations=1)\n",
    "opened = cv2.morphologyEx(img, cv2.MORPH_OPEN, kernel)\n",
    "closed = cv2.morphologyEx(img, cv2.MORPH_CLOSE, kernel)\n",
    "\n",
    "# Display the original and cleaned images\n",
    "cv2.imshow('Original Image', img)\n",
    "cv2.imshow('Eroded Image', eroded)\n",
    "cv2.imshow('Dilated Image', dilated)\n",
    "cv2.imshow('Opened Image', opened)\n",
    "cv2.imshow('Closed Image', closed)\n",
    "cv2.imwrite('erosion2.5.png',eroded)\n",
    "cv2.imwrite('dilated2.5.png',dilated)\n",
    "cv2.waitKey(0)"
   ]
  },
  {
   "cell_type": "code",
   "execution_count": null,
   "id": "7a341bf3-c1b7-430b-a5ba-6e95b700b469",
   "metadata": {},
   "outputs": [],
   "source": []
  }
 ],
 "metadata": {
  "kernelspec": {
   "display_name": "Python 3 (ipykernel)",
   "language": "python",
   "name": "python3"
  },
  "language_info": {
   "codemirror_mode": {
    "name": "ipython",
    "version": 3
   },
   "file_extension": ".py",
   "mimetype": "text/x-python",
   "name": "python",
   "nbconvert_exporter": "python",
   "pygments_lexer": "ipython3",
   "version": "3.9.13"
  }
 },
 "nbformat": 4,
 "nbformat_minor": 5
}
