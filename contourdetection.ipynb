{
 "cells": [
  {
   "cell_type": "code",
   "execution_count": 2,
   "id": "96d5a90e",
   "metadata": {},
   "outputs": [],
   "source": [
    "import cv2\n",
    "\n",
    "# Load the thresholded image\n",
    "img = cv2.imread('sckelelton.png', cv2.IMREAD_GRAYSCALE)\n",
    "\n",
    "# Find contours in the image\n",
    "contours, hierarchy = cv2.findContours(img, cv2.RETR_EXTERNAL, cv2.CHAIN_APPROX_SIMPLE)\n",
    "\n",
    "# Filter the contours based on length and area\n",
    "min_length = 50\n",
    "min_area = 600\n",
    "filtered_contours = []\n",
    "for contour in contours:\n",
    "    if cv2.arcLength(contour, True) >= min_length and cv2.contourArea(contour) >= min_area:\n",
    "        filtered_contours.append(contour)\n",
    "\n",
    "# Draw the filtered contours on a copy of the original image\n",
    "img_with_contours = cv2.cvtColor(img, cv2.COLOR_GRAY2BGR)\n",
    "cv2.drawContours(img_with_contours, filtered_contours, -1, (0, 0, 255), 2)\n",
    "\n",
    "# Display the result\n",
    "#cv2.imshow('Image with Contours', img_with_contours)\n",
    "cv2.imwrite('Image with Contours8.png', img_with_contours)\n",
    "cv2.waitKey(0)\n",
    "cv2.destroyAllWindows()\n"
   ]
  },
  {
   "cell_type": "code",
   "execution_count": null,
   "id": "2c153dfb",
   "metadata": {},
   "outputs": [],
   "source": []
  },
  {
   "cell_type": "code",
   "execution_count": null,
   "id": "e0d5add8",
   "metadata": {},
   "outputs": [],
   "source": []
  }
 ],
 "metadata": {
  "kernelspec": {
   "display_name": "Python 3 (ipykernel)",
   "language": "python",
   "name": "python3"
  },
  "language_info": {
   "codemirror_mode": {
    "name": "ipython",
    "version": 3
   },
   "file_extension": ".py",
   "mimetype": "text/x-python",
   "name": "python",
   "nbconvert_exporter": "python",
   "pygments_lexer": "ipython3",
   "version": "3.9.13"
  }
 },
 "nbformat": 4,
 "nbformat_minor": 5
}
