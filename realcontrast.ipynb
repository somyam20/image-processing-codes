{
 "cells": [
  {
   "cell_type": "code",
   "execution_count": 1,
   "id": "d7b4cf5a",
   "metadata": {},
   "outputs": [],
   "source": [
    "from PIL import Image, ImageEnhance\n",
    "\n",
    "# Open the image file\n",
    "img = Image.open('impfin.png')\n",
    "\n",
    "# Create a contrast enhancer\n",
    "contrast = ImageEnhance.Contrast(img)\n",
    "\n",
    "# Increase the contrast by a factor of 1.5\n",
    "img_contrasted = contrast.enhance(1.5)\n",
    "\n",
    "# Save the contrasted image to a file\n",
    "img_contrasted.save('50contraimage.jpg')\n"
   ]
  },
  {
   "cell_type": "code",
   "execution_count": null,
   "id": "53e7191a",
   "metadata": {},
   "outputs": [],
   "source": []
  }
 ],
 "metadata": {
  "kernelspec": {
   "display_name": "Python 3 (ipykernel)",
   "language": "python",
   "name": "python3"
  },
  "language_info": {
   "codemirror_mode": {
    "name": "ipython",
    "version": 3
   },
   "file_extension": ".py",
   "mimetype": "text/x-python",
   "name": "python",
   "nbconvert_exporter": "python",
   "pygments_lexer": "ipython3",
   "version": "3.9.13"
  }
 },
 "nbformat": 4,
 "nbformat_minor": 5
}
