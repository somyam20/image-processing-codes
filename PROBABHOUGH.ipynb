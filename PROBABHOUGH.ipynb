{
 "cells": [
  {
   "cell_type": "code",
   "execution_count": 8,
   "id": "d01e58b6-ee57-4d5d-ad9f-614b5d64148a",
   "metadata": {},
   "outputs": [],
   "source": [
    "import cv2\n",
    "import numpy as np\n",
    "\n",
    "\n",
    "img = cv2.imread('sckelelton.png')"
   ]
  },
  {
   "cell_type": "code",
   "execution_count": 8,
   "id": "80597c31-67f2-4688-b00d-a3e13eb731e0",
   "metadata": {},
   "outputs": [],
   "source": [
    "gray = cv2.cvtColor(img, cv2.COLOR_BGR2GRAY)"
   ]
  },
  {
   "cell_type": "code",
   "execution_count": 8,
   "id": "28fdb962-2dcc-4e5e-a0e9-38d13fe940f7",
   "metadata": {},
   "outputs": [],
   "source": [
    "edges = cv2.Canny(gray, 50, 150, apertureSize=3)"
   ]
  },
  {
   "cell_type": "code",
   "execution_count": 8,
   "id": "925d6ca7-cdbb-4709-bf0d-3d17dfde0448",
   "metadata": {},
   "outputs": [],
   "source": [
    "lines = cv2.HoughLinesP(edges, rho=1, theta=np.pi/180, threshold=70, minLineLength=15, maxLineGap=15)"
   ]
  },
  {
   "cell_type": "code",
   "execution_count": 8,
   "id": "0f3e8a80-223c-4824-9d77-dcef36b9d323",
   "metadata": {},
   "outputs": [],
   "source": [
    "min_line_length = 50\n",
    "filtered_lines = []\n",
    "for line in lines:\n",
    "    x1, y1, x2, y2 = line[0]\n",
    "    length = np.sqrt((x2 - x1)**2 + (y2 - y1)**2)\n",
    "    if length >= min_line_length:\n",
    "        filtered_lines.append(line)"
   ]
  },
  {
   "cell_type": "code",
   "execution_count": 8,
   "id": "45fbe828-140a-4e55-bcb2-02f49e2ef927",
   "metadata": {},
   "outputs": [
    {
     "data": {
      "text/plain": [
       "True"
      ]
     },
     "execution_count": 8,
     "metadata": {},
     "output_type": "execute_result"
    }
   ],
   "source": [
    "for line in filtered_lines:\n",
    "    x1, y1, x2, y2 = line[0]\n",
    "    cv2.line(img, (x1, y1), (x2, y2), (0, 255, 0), 2)\n",
    "\n",
    "\n",
    "cv2.imwrite('Cleaned line contours7015.png', img)"
   ]
  },
  {
   "cell_type": "code",
   "execution_count": null,
   "id": "67f3b2df-b2ae-4915-964e-2db2921d1cc1",
   "metadata": {},
   "outputs": [],
   "source": []
  }
 ],
 "metadata": {
  "kernelspec": {
   "display_name": "Python 3 (ipykernel)",
   "language": "python",
   "name": "python3"
  },
  "language_info": {
   "codemirror_mode": {
    "name": "ipython",
    "version": 3
   },
   "file_extension": ".py",
   "mimetype": "text/x-python",
   "name": "python",
   "nbconvert_exporter": "python",
   "pygments_lexer": "ipython3",
   "version": "3.9.13"
  }
 },
 "nbformat": 4,
 "nbformat_minor": 5
}
