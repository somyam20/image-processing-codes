{
 "cells": [
  {
   "cell_type": "code",
   "execution_count": 1,
   "id": "d64e5ba7-43f6-43b4-97cf-cd18487a7f69",
   "metadata": {},
   "outputs": [
    {
     "data": {
      "text/plain": [
       "-1"
      ]
     },
     "execution_count": 1,
     "metadata": {},
     "output_type": "execute_result"
    }
   ],
   "source": [
    "import cv2\n",
    "\n",
    "# Load image in grayscale\n",
    "image = cv2.imread('2.5bright.jpg', 0)\n",
    "\n",
    "# Apply Canny edge detection\n",
    "edges = cv2.Canny(image, 100, 200)\n",
    "\n",
    "# Display the result\n",
    "cv2.imshow('Canny edges', edges)\n",
    "cv2.waitKey(0)"
   ]
  },
  {
   "cell_type": "code",
   "execution_count": 2,
   "id": "015157f7-0b98-4bfb-b194-911497bbe142",
   "metadata": {},
   "outputs": [
    {
     "data": {
      "text/plain": [
       "True"
      ]
     },
     "execution_count": 2,
     "metadata": {},
     "output_type": "execute_result"
    }
   ],
   "source": [
    "cv2.imwrite('canny2.5b.png',edges)"
   ]
  },
  {
   "cell_type": "code",
   "execution_count": null,
   "id": "979cd0b6-2af6-475a-a06b-6be7c2c92375",
   "metadata": {},
   "outputs": [],
   "source": []
  }
 ],
 "metadata": {
  "kernelspec": {
   "display_name": "Python 3 (ipykernel)",
   "language": "python",
   "name": "python3"
  },
  "language_info": {
   "codemirror_mode": {
    "name": "ipython",
    "version": 3
   },
   "file_extension": ".py",
   "mimetype": "text/x-python",
   "name": "python",
   "nbconvert_exporter": "python",
   "pygments_lexer": "ipython3",
   "version": "3.9.13"
  }
 },
 "nbformat": 4,
 "nbformat_minor": 5
}
