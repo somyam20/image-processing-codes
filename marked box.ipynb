{
 "cells": [
  {
   "cell_type": "code",
   "execution_count": 4,
   "id": "29e13f94-e79d-4fcb-aecc-f15f72540e38",
   "metadata": {},
   "outputs": [
    {
     "name": "stdin",
     "output_type": "stream",
     "text": [
      "C:\\Users\\somya\\3 H.tif C:\\Users\\somya\\3 H.tif\n"
     ]
    },
    {
     "name": "stdout",
     "output_type": "stream",
     "text": [
      "Top Left: (16, 260)\n",
      "Bottom Right: (116, 360)\n"
     ]
    },
    {
     "name": "stdin",
     "output_type": "stream",
     "text": [
      "C:\\Users\\somya\\3 H_labelled.tif C:\\Users\\somya\\3 H_labelled.tif\n"
     ]
    }
   ],
   "source": [
    "import cv2\n",
    "\n",
    "\n",
    "point = None\n",
    "square_size = 100  \n",
    "\n",
    "\n",
    "def mouse_callback(event, x, y, flags, param):\n",
    "    global point\n",
    "    if event == cv2.EVENT_LBUTTONDOWN:\n",
    "        point = (x, y)\n",
    "\n",
    "\n",
    "input_image_path = input(r\"C:\\Users\\somya\\3 H.tif\")\n",
    "input_image = cv2.imread(input_image_path)\n",
    "max_display_dim = 1000\n",
    "resized_input_image = cv2.resize(input_image, (max_display_dim, max_display_dim))\n",
    "\n",
    "\n",
    "cv2.namedWindow('Input Image')\n",
    "cv2.setMouseCallback('Input Image', mouse_callback)\n",
    "\n",
    "while True:\n",
    "    \n",
    "    cv2.imshow('Input Image', resized_input_image)\n",
    "    \n",
    "    \n",
    "    if point is not None:\n",
    "        x, y = point\n",
    "        \n",
    "        \n",
    "        top_left = (x - square_size // 2, y - square_size // 2)\n",
    "        bottom_right = (x + square_size // 2, y + square_size // 2)\n",
    "        \n",
    "        \n",
    "        square_image = resized_input_image.copy()\n",
    "        cv2.rectangle(square_image, top_left, bottom_right, (0, 255, 0), 2)\n",
    "        cv2.imshow('Marked Point', square_image)\n",
    "        \n",
    "        \n",
    "        print(\"Top Left:\", top_left)\n",
    "        print(\"Bottom Right:\", bottom_right)\n",
    "        \n",
    "        \n",
    "        point = None\n",
    "    \n",
    "    \n",
    "    if cv2.waitKey(1) & 0xFF == ord('q'):\n",
    "        break\n",
    "\n",
    "cv2.destroyAllWindows()\n",
    "\n",
    "output_image_path = input(r\"C:\\Users\\somya\\3 H_labelled.tif\")\n",
    "output_image = cv2.imread(output_image_path)\n",
    "\n",
    "\n",
    "output_image = cv2.resize(output_image, (resized_input_image.shape[1], resized_input_image.shape[0]))\n",
    "\n",
    "\n",
    "cv2.rectangle(output_image, top_left, bottom_right, (0, 255, 0), 2)\n",
    "\n",
    "\n",
    "cv2.imshow('Marked Output Image', output_image)\n",
    "cv2.waitKey(0)\n",
    "cv2.destroyAllWindows()"
   ]
  },
  {
   "cell_type": "code",
   "execution_count": null,
   "id": "5472dbf4-1d09-43ac-962b-cece571f5e67",
   "metadata": {},
   "outputs": [],
   "source": []
  }
 ],
 "metadata": {
  "kernelspec": {
   "display_name": "Python 3 (ipykernel)",
   "language": "python",
   "name": "python3"
  },
  "language_info": {
   "codemirror_mode": {
    "name": "ipython",
    "version": 3
   },
   "file_extension": ".py",
   "mimetype": "text/x-python",
   "name": "python",
   "nbconvert_exporter": "python",
   "pygments_lexer": "ipython3",
   "version": "3.9.13"
  }
 },
 "nbformat": 4,
 "nbformat_minor": 5
}
