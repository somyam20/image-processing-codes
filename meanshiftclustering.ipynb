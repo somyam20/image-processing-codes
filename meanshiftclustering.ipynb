{
 "cells": [
  {
   "cell_type": "code",
   "execution_count": 1,
   "id": "e899d093-eb42-41c8-be66-ee65cc77d791",
   "metadata": {},
   "outputs": [
    {
     "data": {
      "text/plain": [
       "True"
      ]
     },
     "execution_count": 1,
     "metadata": {},
     "output_type": "execute_result"
    }
   ],
   "source": [
    "import cv2\n",
    "import numpy as np\n",
    "from sklearn.cluster import MeanShift, estimate_bandwidth\n",
    "image = cv2.imread(\"working.png\")\n",
    "reshaped_image = image.reshape(-1, 3).astype(np.float32)\n",
    "bandwidth = estimate_bandwidth(reshaped_image, quantile=0.2, n_samples=500)\n",
    "ms = MeanShift(bandwidth=bandwidth, bin_seeding=True)\n",
    "ms.fit(reshaped_image)\n",
    "labels = ms.labels_\n",
    "cluster_centers = ms.cluster_centers_\n",
    "labels = labels.reshape(image.shape[:2])\n",
    "labels = labels.astype(np.uint8)\n",
    "\n",
    "\n",
    "cv2.imwrite(\"Segmentedmage.png\", labels)\n",
    "\n"
   ]
  },
  {
   "cell_type": "code",
   "execution_count": 2,
   "id": "1bc41b2f-c88a-4515-acdc-93f7f6def7d9",
   "metadata": {},
   "outputs": [
    {
     "data": {
      "text/plain": [
       "True"
      ]
     },
     "execution_count": 2,
     "metadata": {},
     "output_type": "execute_result"
    }
   ],
   "source": [
    "import cv2\n",
    "import numpy as np\n",
    "from sklearn.cluster import MeanShift, estimate_bandwidth\n",
    "image = cv2.imread(\"working.png\")\n",
    "reshaped_image = image.reshape(-1, 3).astype(np.float32)\n",
    "bandwidth = estimate_bandwidth(reshaped_image, quantile=0.2, n_samples=500)\n",
    "ms = MeanShift(bandwidth=bandwidth, bin_seeding=True)\n",
    "ms.fit(reshaped_image)\n",
    "labels = ms.labels_\n",
    "cluster_centers = ms.cluster_centers_\n",
    "labels = labels.reshape(image.shape[:2])\n",
    "labels = ((labels - labels.min()) / (labels.max() - labels.min()) * 255).astype(np.uint8)\n",
    "colormap = cv2.applyColorMap(labels, cv2.COLORMAP_JET)\n",
    "cv2.imwrite(\"Segmentedge.png\", colormap)\n",
    "\n"
   ]
  },
  {
   "cell_type": "code",
   "execution_count": null,
   "id": "a8095236-132f-4a50-9ed9-9dcbd67944d6",
   "metadata": {},
   "outputs": [],
   "source": []
  }
 ],
 "metadata": {
  "kernelspec": {
   "display_name": "Python 3 (ipykernel)",
   "language": "python",
   "name": "python3"
  },
  "language_info": {
   "codemirror_mode": {
    "name": "ipython",
    "version": 3
   },
   "file_extension": ".py",
   "mimetype": "text/x-python",
   "name": "python",
   "nbconvert_exporter": "python",
   "pygments_lexer": "ipython3",
   "version": "3.9.13"
  }
 },
 "nbformat": 4,
 "nbformat_minor": 5
}
