{
 "cells": [
  {
   "cell_type": "code",
   "execution_count": 2,
   "id": "5ddba8a4",
   "metadata": {},
   "outputs": [],
   "source": [
    "from PIL import Image, ImageEnhance\n",
    "\n",
    "# Open the image file\n",
    "img = Image.open('samplegray.png')\n",
    "\n",
    "# Create a brightness enhancer\n",
    "brightness = ImageEnhance.Brightness(img)\n",
    "\n",
    "# Increase the brightness by a factor of 1.5\n",
    "img_brightened = brightness.enhance(1.5)\n",
    "\n",
    "# Save the brightened image to a file\n",
    "img_brightened.save('samplebr.jpg')"
   ]
  },
  {
   "cell_type": "code",
   "execution_count": null,
   "id": "9f6e1e6f",
   "metadata": {},
   "outputs": [],
   "source": []
  }
 ],
 "metadata": {
  "kernelspec": {
   "display_name": "Python 3 (ipykernel)",
   "language": "python",
   "name": "python3"
  },
  "language_info": {
   "codemirror_mode": {
    "name": "ipython",
    "version": 3
   },
   "file_extension": ".py",
   "mimetype": "text/x-python",
   "name": "python",
   "nbconvert_exporter": "python",
   "pygments_lexer": "ipython3",
   "version": "3.9.13"
  }
 },
 "nbformat": 4,
 "nbformat_minor": 5
}
