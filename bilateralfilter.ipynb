{
 "cells": [
  {
   "cell_type": "code",
   "execution_count": null,
   "id": "83f9bd99-3cf6-4148-9323-ddd9e7e1525d",
   "metadata": {},
   "outputs": [],
   "source": [
    "import cv2\n",
    "\n",
    "# Load the image\n",
    "img = cv2.imread('fingray.png')\n",
    "\n",
    "# Apply Bilateral Filter\n",
    "filtered = cv2.bilateralFilter(img, 9, 75, 75)\n",
    "\n",
    "# Display the original and filtered images\n",
    "cv2.imshow('Original Image', img)\n",
    "cv2.imshow('Filtered Image', filtered)\n",
    "cv2.imwrite('bilateralfilter.png',filtered)\n",
    "cv2.waitKey(0)"
   ]
  },
  {
   "cell_type": "code",
   "execution_count": null,
   "id": "a7cc5d51-b116-4271-b660-f5049cbdc430",
   "metadata": {},
   "outputs": [],
   "source": []
  }
 ],
 "metadata": {
  "kernelspec": {
   "display_name": "Python 3 (ipykernel)",
   "language": "python",
   "name": "python3"
  },
  "language_info": {
   "codemirror_mode": {
    "name": "ipython",
    "version": 3
   },
   "file_extension": ".py",
   "mimetype": "text/x-python",
   "name": "python",
   "nbconvert_exporter": "python",
   "pygments_lexer": "ipython3",
   "version": "3.9.13"
  }
 },
 "nbformat": 4,
 "nbformat_minor": 5
}
