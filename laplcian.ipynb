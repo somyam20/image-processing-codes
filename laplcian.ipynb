{
 "cells": [
  {
   "cell_type": "code",
   "execution_count": 1,
   "id": "703178fc-8e01-44e6-9f67-7e36c3414bef",
   "metadata": {},
   "outputs": [
    {
     "data": {
      "text/plain": [
       "-1"
      ]
     },
     "execution_count": 1,
     "metadata": {},
     "output_type": "execute_result"
    }
   ],
   "source": [
    "import cv2\n",
    "\n",
    "# Load image in grayscale\n",
    "image = cv2.imread('fingray.png', 0)\n",
    "\n",
    "# Apply Laplacian edge detection\n",
    "edges = cv2.Laplacian(image, cv2.CV_64F)\n",
    "\n",
    "# Display the result\n",
    "cv2.imshow('Laplacian edges', edges)\n",
    "cv2.waitKey(0)"
   ]
  },
  {
   "cell_type": "code",
   "execution_count": 2,
   "id": "42e63261-cc45-4ab1-a371-cf3108577087",
   "metadata": {},
   "outputs": [
    {
     "data": {
      "text/plain": [
       "True"
      ]
     },
     "execution_count": 2,
     "metadata": {},
     "output_type": "execute_result"
    }
   ],
   "source": [
    "cv2.imwrite('laplacian.png',edges)"
   ]
  },
  {
   "cell_type": "code",
   "execution_count": null,
   "id": "497b20e5-3e1f-4fb3-ad8d-9746a2afdb0c",
   "metadata": {},
   "outputs": [],
   "source": []
  }
 ],
 "metadata": {
  "kernelspec": {
   "display_name": "Python 3 (ipykernel)",
   "language": "python",
   "name": "python3"
  },
  "language_info": {
   "codemirror_mode": {
    "name": "ipython",
    "version": 3
   },
   "file_extension": ".py",
   "mimetype": "text/x-python",
   "name": "python",
   "nbconvert_exporter": "python",
   "pygments_lexer": "ipython3",
   "version": "3.9.13"
  }
 },
 "nbformat": 4,
 "nbformat_minor": 5
}
