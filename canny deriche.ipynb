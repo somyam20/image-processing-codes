{
 "cells": [
  {
   "cell_type": "code",
   "execution_count": 1,
   "id": "283a3d40-8c9d-413f-b778-263ea708ec03",
   "metadata": {},
   "outputs": [
    {
     "data": {
      "text/plain": [
       "-1"
      ]
     },
     "execution_count": 1,
     "metadata": {},
     "output_type": "execute_result"
    }
   ],
   "source": [
    "import cv2\n",
    "\n",
    "# Load image in grayscale\n",
    "image = cv2.imread('2.5bright.jpg', 0)\n",
    "\n",
    "# Apply Canny-Deriche edge detection\n",
    "edges = cv2.Canny(image, 100, 200, L2gradient=True)\n",
    "\n",
    "# Display the result\n",
    "cv2.imshow('Canny-Deriche edges', edges)\n",
    "cv2.waitKey(0)\n",
    "\n"
   ]
  },
  {
   "cell_type": "code",
   "execution_count": 2,
   "id": "b2850e28-b9d7-452e-9f25-d24e17152f7f",
   "metadata": {},
   "outputs": [
    {
     "data": {
      "text/plain": [
       "True"
      ]
     },
     "execution_count": 2,
     "metadata": {},
     "output_type": "execute_result"
    }
   ],
   "source": [
    "cv2.imwrite('cannyd2.5b.png',edges)"
   ]
  },
  {
   "cell_type": "code",
   "execution_count": null,
   "id": "fdd6348d-5a49-4a07-b322-ca961f235aaf",
   "metadata": {},
   "outputs": [],
   "source": []
  }
 ],
 "metadata": {
  "kernelspec": {
   "display_name": "Python 3 (ipykernel)",
   "language": "python",
   "name": "python3"
  },
  "language_info": {
   "codemirror_mode": {
    "name": "ipython",
    "version": 3
   },
   "file_extension": ".py",
   "mimetype": "text/x-python",
   "name": "python",
   "nbconvert_exporter": "python",
   "pygments_lexer": "ipython3",
   "version": "3.9.13"
  }
 },
 "nbformat": 4,
 "nbformat_minor": 5
}
