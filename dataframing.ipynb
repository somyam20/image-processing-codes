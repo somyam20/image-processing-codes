{
 "cells": [
  {
   "cell_type": "code",
   "execution_count": 1,
   "id": "46d73d41-1fc7-41ea-95b0-6bc333da237a",
   "metadata": {},
   "outputs": [],
   "source": [
    "import cv2\n",
    "import numpy as np\n"
   ]
  },
  {
   "cell_type": "code",
   "execution_count": 2,
   "id": "dfe8e9c9-9f0e-447a-94a8-5fc64e104fe4",
   "metadata": {},
   "outputs": [],
   "source": [
    "image = cv2.imread(\"Cleaned_line_contoursmin.png\")\n"
   ]
  },
  {
   "cell_type": "code",
   "execution_count": 3,
   "id": "333c62fa-6ecc-4b17-84d9-1e5f1a4026a9",
   "metadata": {},
   "outputs": [],
   "source": [
    "gray = cv2.cvtColor(image, cv2.COLOR_BGR2GRAY)\n"
   ]
  },
  {
   "cell_type": "code",
   "execution_count": 4,
   "id": "4cdd5cfa-327b-4ab3-963c-9c5dc22945ee",
   "metadata": {},
   "outputs": [],
   "source": [
    "edges = cv2.Canny(gray, 100, 200)\n",
    "#cv2.imwrite('triedc.png',edges)\n"
   ]
  },
  {
   "cell_type": "code",
   "execution_count": 5,
   "id": "a6561758-f3f6-42ad-aeab-ac904b7ba2ba",
   "metadata": {},
   "outputs": [],
   "source": [
    "contours, _ = cv2.findContours(edges, cv2.RETR_EXTERNAL, cv2.CHAIN_APPROX_SIMPLE)\n"
   ]
  },
  {
   "cell_type": "code",
   "execution_count": 6,
   "id": "59aa0231-e4de-4c16-b85b-406372f2fcda",
   "metadata": {},
   "outputs": [],
   "source": [
    "for contour in contours:\n",
    "    # Fit a line to the contour\n",
    "    [vx, vy, x, y] = cv2.fitLine(contour, cv2.DIST_L2, 0, 0.01, 0.01)\n",
    "    # Compute the angle of the line\n",
    "    angle = np.arctan2(vy, vx) * 180 / np.pi\n",
    "    # Calculate the endpoints of the line segment\n",
    "    pt1 = (int(x - vx * 100), int(y - vy * 100))\n",
    "    pt2 = (int(x + vx * 100), int(y + vy * 100))\n",
    "    # Draw a line on the image to represent the line segment\n",
    "    cv2.line(image, pt1, pt2, (0, 0, 255), 2)\n",
    "    # Display the angle on the image\n",
    "    cv2.putText(image, \"Angle: \" + str(angle), (int(x), int(y)), cv2.FONT_HERSHEY_SIMPLEX, 0.6, (0, 0, 255), 2)\n"
   ]
  },
  {
   "cell_type": "code",
   "execution_count": 11,
   "id": "cd85f3d7-6984-4b9c-b716-5bf5a88021d3",
   "metadata": {},
   "outputs": [
    {
     "data": {
      "text/plain": [
       "True"
      ]
     },
     "execution_count": 11,
     "metadata": {},
     "output_type": "execute_result"
    }
   ],
   "source": [
    "cv2.imwrite(\"Labeled Image.png\", image)"
   ]
  },
  {
   "cell_type": "code",
   "execution_count": 7,
   "id": "ec05ef9b-a650-4ba3-8424-b3b1f8e827a2",
   "metadata": {},
   "outputs": [],
   "source": [
    "labeled_image = image.copy()\n",
    "\n",
    "for contour in contours:\n",
    "    # Fit a line to the contour\n",
    "    [vx, vy, x, y] = cv2.fitLine(contour, cv2.DIST_L2, 0, 0.01, 0.01)\n",
    "    # Compute the angle of the line\n",
    "    angle = np.arctan2(vy, vx) * 180 / np.pi\n",
    "    # Calculate the endpoints of the line segment\n",
    "    pt1 = (int(x - vx * 100), int(y - vy * 100))\n",
    "    pt2 = (int(x + vx * 100), int(y + vy * 100))\n",
    "    # Draw a line on the labeled image to represent the line segment\n",
    "    cv2.line(labeled_image, pt1, pt2, (0, 0, 255), 2)\n",
    "    # Display the angle on the labeled image\n",
    "    cv2.putText(labeled_image, \"Angle: \" + str(angle), (int(x), int(y)), cv2.FONT_HERSHEY_SIMPLEX, 0.6, (0, 0, 255), 2)\n"
   ]
  },
  {
   "cell_type": "code",
   "execution_count": 13,
   "id": "4aaa340f-6887-4aac-a7c5-434d3a44ef65",
   "metadata": {},
   "outputs": [
    {
     "data": {
      "text/plain": [
       "True"
      ]
     },
     "execution_count": 13,
     "metadata": {},
     "output_type": "execute_result"
    }
   ],
   "source": [
    "cv2.imwrite(\"labeled_image.jpg\", labeled_image)\n"
   ]
  },
  {
   "cell_type": "code",
   "execution_count": 8,
   "id": "e9021062-509b-4461-b506-d7f22bb36f0b",
   "metadata": {},
   "outputs": [],
   "source": [
    "import pandas as pd\n",
    "\n",
    "line_segments_data2 = []\n",
    "\n",
    "for contour in contours:\n",
    "    # Fit a line to the contour\n",
    "    [vx, vy, x, y] = cv2.fitLine(contour, cv2.DIST_L2, 0, 0.01, 0.01)\n",
    "    # Compute the angle of the line\n",
    "    angle = np.arctan2(vy, vx) * 180 / np.pi\n",
    "    # Calculate the endpoints of the line segment\n",
    "    pt1 = (int(x - vx * 100), int(y - vy * 100))\n",
    "    pt2 = (int(x + vx * 100), int(y + vy * 100))\n",
    "    # Calculate the length of the line segment\n",
    "    length = np.sqrt((pt2[0] - pt1[0])**2 + (pt2[1] - pt1[1])**2)\n",
    "    # Create a dictionary to store the line segment attributes\n",
    "    line_segment_info = {\n",
    "        'Start Point': pt1,\n",
    "        'End Point': pt2,\n",
    "        'Length': length,\n",
    "        'Angle': angle\n",
    "    }\n",
    "    # Append the line segment info to the list\n",
    "    line_segments_data2.append(line_segment_info)\n",
    "\n",
    "# Create a DataFrame from the line segment data\n",
    "df = pd.DataFrame(line_segments_data2)\n"
   ]
  },
  {
   "cell_type": "code",
   "execution_count": 9,
   "id": "786311ff-57ff-4b00-951a-0b4fade2ccd7",
   "metadata": {},
   "outputs": [],
   "source": [
    "df.to_csv(\"line_segment_data2.csv\", index=False)\n"
   ]
  },
  {
   "cell_type": "code",
   "execution_count": 10,
   "id": "81673a41-363c-4fff-9790-4092bfe681e5",
   "metadata": {},
   "outputs": [
    {
     "name": "stdout",
     "output_type": "stream",
     "text": [
      "CSV file has been converted to Excel.\n"
     ]
    }
   ],
   "source": [
    "import pandas as pd\n",
    "\n",
    "# Load the CSV file using pandas\n",
    "csv_file_path = r'C:\\Users\\somya\\line_segment_data2.csv'\n",
    "df = pd.read_csv(csv_file_path)\n",
    "\n",
    "# Save the DataFrame as an Excel file\n",
    "excel_file_path = 'line_segment2.xlsx'\n",
    "df.to_excel(excel_file_path, index=False)\n",
    "\n",
    "print(\"CSV file has been converted to Excel.\")\n"
   ]
  },
  {
   "cell_type": "code",
   "execution_count": null,
   "id": "6be9a526-94c4-4014-9b15-98a4bf7d794b",
   "metadata": {},
   "outputs": [],
   "source": []
  }
 ],
 "metadata": {
  "kernelspec": {
   "display_name": "Python 3 (ipykernel)",
   "language": "python",
   "name": "python3"
  },
  "language_info": {
   "codemirror_mode": {
    "name": "ipython",
    "version": 3
   },
   "file_extension": ".py",
   "mimetype": "text/x-python",
   "name": "python",
   "nbconvert_exporter": "python",
   "pygments_lexer": "ipython3",
   "version": "3.9.13"
  }
 },
 "nbformat": 4,
 "nbformat_minor": 5
}
