{
 "cells": [
  {
   "cell_type": "code",
   "execution_count": 6,
   "id": "f1fbd264-c1ad-48bf-923c-c476cb3e2da0",
   "metadata": {},
   "outputs": [
    {
     "data": {
      "text/plain": [
       "-1"
      ]
     },
     "execution_count": 6,
     "metadata": {},
     "output_type": "execute_result"
    }
   ],
   "source": [
    "import cv2\n",
    "\n",
    "# Load the two images\n",
    "img1 = cv2.imread('imp1.png')\n",
    "img2 = cv2.imread('cvgray2.png')\n",
    "\n",
    "# Resize the second image to the same size as the first image\n",
    "img2_resized = cv2.resize(img2, (img1.shape[1], img1.shape[0]))\n",
    "\n",
    "# Blend the two images using the addWeighted function\n",
    "alpha = 0.5  # blending factor\n",
    "result1 = cv2.addWeighted(img1, alpha, img2_resized, 1 - alpha, 0)\n",
    "\n",
    "# Display the result\n",
    "cv2.imshow('Result1', result1)\n",
    "filename='impfin.png'\n",
    "cv2.imwrite(filename,result1)\n",
    "cv2.waitKey(0)\n",
    "\n",
    "\n",
    "\n",
    "\n"
   ]
  },
  {
   "cell_type": "code",
   "execution_count": null,
   "id": "d0080d74-9ba7-4369-9ccf-d230eb8a50b9",
   "metadata": {},
   "outputs": [],
   "source": []
  }
 ],
 "metadata": {
  "kernelspec": {
   "display_name": "Python 3 (ipykernel)",
   "language": "python",
   "name": "python3"
  },
  "language_info": {
   "codemirror_mode": {
    "name": "ipython",
    "version": 3
   },
   "file_extension": ".py",
   "mimetype": "text/x-python",
   "name": "python",
   "nbconvert_exporter": "python",
   "pygments_lexer": "ipython3",
   "version": "3.9.13"
  }
 },
 "nbformat": 4,
 "nbformat_minor": 5
}
