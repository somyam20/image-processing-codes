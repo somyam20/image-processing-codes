{
 "cells": [
  {
   "cell_type": "code",
   "execution_count": 31,
   "id": "2ec5478b-4935-4673-817f-662dfbebc322",
   "metadata": {},
   "outputs": [
    {
     "data": {
      "text/plain": [
       "-1"
      ]
     },
     "execution_count": 31,
     "metadata": {},
     "output_type": "execute_result"
    }
   ],
   "source": [
    "import cv2\n",
    "\n",
    "# Load the image in grayscale\n",
    "img = cv2.imread('2.5bright.jpg', 0)\n",
    "\n",
    "# Apply Thresholding\n",
    "ret, thresh = cv2.threshold(img, 210, 256, cv2.THRESH_BINARY)\n",
    "\n",
    "# Display the original and thresholded images\n",
    "#cv2.imshow('Original Image', img)\n",
    "#cv2.imshow('Thresholded Image', thresh)\n",
    "cv2.waitKey(0)"
   ]
  },
  {
   "cell_type": "code",
   "execution_count": 32,
   "id": "7ebf7bb4-d40b-4ff5-9f50-187e214f0206",
   "metadata": {},
   "outputs": [
    {
     "data": {
      "text/plain": [
       "True"
      ]
     },
     "execution_count": 32,
     "metadata": {},
     "output_type": "execute_result"
    }
   ],
   "source": [
    "cv2.imwrite('210thre2.5b.png',thresh)"
   ]
  },
  {
   "cell_type": "code",
   "execution_count": null,
   "id": "3a5b965f-2588-4cdb-8139-f2ef298c1a7d",
   "metadata": {},
   "outputs": [],
   "source": []
  }
 ],
 "metadata": {
  "kernelspec": {
   "display_name": "Python 3 (ipykernel)",
   "language": "python",
   "name": "python3"
  },
  "language_info": {
   "codemirror_mode": {
    "name": "ipython",
    "version": 3
   },
   "file_extension": ".py",
   "mimetype": "text/x-python",
   "name": "python",
   "nbconvert_exporter": "python",
   "pygments_lexer": "ipython3",
   "version": "3.9.13"
  }
 },
 "nbformat": 4,
 "nbformat_minor": 5
}
