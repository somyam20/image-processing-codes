{
 "cells": [
  {
   "cell_type": "code",
   "execution_count": 19,
   "id": "5ea33152-ba0b-4729-a926-80aff753fc9d",
   "metadata": {},
   "outputs": [],
   "source": [
    "import cv2\n",
    "import numpy as np\n",
    "import pandas as pd\n",
    "import math\n",
    "\n",
    "\n",
    "excel_file_path = excel_file_path = r'C:\\Users\\somya\\line_segment_data.xlsx'\n",
    "\n",
    "df = pd.read_excel(excel_file_path)"
   ]
  },
  {
   "cell_type": "code",
   "execution_count": 19,
   "id": "f3fe17b4-210c-49bc-ab26-1220b2572c2f",
   "metadata": {},
   "outputs": [],
   "source": [
    "image_height = 2160  \n",
    "image_width = 3840  \n",
    "blank_image = np.zeros((image_height, image_width, 3), dtype=np.uint8)"
   ]
  },
  {
   "cell_type": "code",
   "execution_count": 19,
   "id": "fc2ffe6e-7373-4a01-9825-b5e6a6abfd77",
   "metadata": {},
   "outputs": [
    {
     "data": {
      "text/plain": [
       "True"
      ]
     },
     "execution_count": 19,
     "metadata": {},
     "output_type": "execute_result"
    }
   ],
   "source": [
    "for index, row in df.iterrows():\n",
    "    if row['Angle'] > -48 and row['Angle']<=45:  \n",
    "        start_point_x, start_point_y = eval(row['Start Point'])\n",
    "        \n",
    "        angle_radians = math.radians(row['Angle'])\n",
    "        end_x = int(start_point_x + row['Length'] * math.cos(angle_radians))\n",
    "        end_y = int(start_point_y - row['Length'] * math.sin(angle_radians))\n",
    "        end_point = (end_x, end_y)\n",
    "        \n",
    "        line_color = (0, 255, 0)  \n",
    "        line_thickness = 2\n",
    "        \n",
    "        cv2.line(blank_image, (start_point_x, start_point_y), end_point, line_color, line_thickness)\n",
    "\n",
    "\n",
    "cv2.imwrite('lines with blanck image45 to-48.png',blank_image)"
   ]
  },
  {
   "cell_type": "code",
   "execution_count": null,
   "id": "838a9a13-ddcc-40fe-b183-e18ecca12b75",
   "metadata": {},
   "outputs": [],
   "source": []
  }
 ],
 "metadata": {
  "kernelspec": {
   "display_name": "Python 3 (ipykernel)",
   "language": "python",
   "name": "python3"
  },
  "language_info": {
   "codemirror_mode": {
    "name": "ipython",
    "version": 3
   },
   "file_extension": ".py",
   "mimetype": "text/x-python",
   "name": "python",
   "nbconvert_exporter": "python",
   "pygments_lexer": "ipython3",
   "version": "3.9.13"
  }
 },
 "nbformat": 4,
 "nbformat_minor": 5
}
