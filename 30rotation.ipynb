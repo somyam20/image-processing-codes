{
 "cells": [
  {
   "cell_type": "code",
   "execution_count": 1,
   "id": "a2ae3ac0-7422-4788-97ed-53a40cfb42d0",
   "metadata": {},
   "outputs": [],
   "source": [
    "\n"
   ]
  },
  {
   "cell_type": "code",
   "execution_count": 1,
   "id": "e59c5d66-658c-41a9-b492-3cd2c5ca46fc",
   "metadata": {},
   "outputs": [],
   "source": [
    "from PIL import Image\n",
    "  \n",
    "# Giving The Original image Directory \n",
    "# Specified\n",
    "Original_Image = Image.open(\"cutimage.png\")\n",
    "  \n",
    "\n",
    "  \n",
    "# This Will Rotate Image By 60 Degree\n",
    "rotated_image3 = Original_Image.rotate(30)\n",
    "\n",
    "rotated_image3.show()"
   ]
  },
  {
   "cell_type": "code",
   "execution_count": null,
   "id": "6b31333a-66c0-4e15-88f7-3b9f959bd614",
   "metadata": {},
   "outputs": [],
   "source": []
  }
 ],
 "metadata": {
  "kernelspec": {
   "display_name": "Python 3 (ipykernel)",
   "language": "python",
   "name": "python3"
  },
  "language_info": {
   "codemirror_mode": {
    "name": "ipython",
    "version": 3
   },
   "file_extension": ".py",
   "mimetype": "text/x-python",
   "name": "python",
   "nbconvert_exporter": "python",
   "pygments_lexer": "ipython3",
   "version": "3.9.13"
  }
 },
 "nbformat": 4,
 "nbformat_minor": 5
}
